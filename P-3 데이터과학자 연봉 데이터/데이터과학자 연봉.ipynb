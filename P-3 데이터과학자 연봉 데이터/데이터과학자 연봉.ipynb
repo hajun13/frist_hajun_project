{
 "cells": [
  {
   "cell_type": "code",
   "execution_count": 1,
   "metadata": {},
   "outputs": [],
   "source": [
    "import pandas as pd\n",
    "\n",
    "import matplotlib.pyplot as plt\n",
    "plt.rcParams['font.family'] = 'Malgun Gothic'\n",
    "\n",
    "import matplotlib as mpl\n",
    "mpl.rcParams['axes.unicode_minus'] = False\n",
    "\n",
    "%matplotlib inline"
   ]
  },
  {
   "cell_type": "code",
   "execution_count": 2,
   "metadata": {},
   "outputs": [],
   "source": [
    "\n",
    "import seaborn as sns\n",
    "import numpy as np\n",
    "from scipy import stats\n",
    "\n",
    "from dash import Dash, html, dcc, Input, Output, callback, dash_table\n",
    "import pandas as pd\n",
    "import plotly.express as px"
   ]
  },
  {
   "cell_type": "code",
   "execution_count": 6,
   "metadata": {},
   "outputs": [
    {
     "data": {
      "text/html": [
       "\n",
       "        <iframe\n",
       "            width=\"100%\"\n",
       "            height=\"650\"\n",
       "            src=\"http://127.0.0.1:8050/\"\n",
       "            frameborder=\"0\"\n",
       "            allowfullscreen\n",
       "            \n",
       "        ></iframe>\n",
       "        "
      ],
      "text/plain": [
       "<IPython.lib.display.IFrame at 0x15e2b9030>"
      ]
     },
     "metadata": {},
     "output_type": "display_data"
    }
   ],
   "source": [
    "df = pd.read_csv(\"/Users/hajun/Desktop/대쉬보드 프로젝트/P-3 데이터과학자 연봉 데이터/Latest_Data_Science_Salaries.csv\")\n",
    "\n",
    "app = Dash(__name__)\n",
    "\n",
    "# html.Div : 구역 나누기 \n",
    "app.layout = html.Div([\n",
    "    html.H1(children = '제목', style = {'textAlign':'center'}), # 제목 입력\n",
    "    dcc.Dropdown(df['Job Title'].unique(), 'Data Engineer', id = 'dropdown-selection'),\n",
    "    # 목록에 띄울 기준의 카테고리, 그 중 처음에 보여줄 것, id 지정 \n",
    "    dcc.Graph(id = 'graph')\n",
    "    # 그래프 id 지정 \n",
    "])\n",
    "\n",
    "@callback(\n",
    "    Output('graph', 'figure'),\n",
    "    Input('dropdown-selection', 'value')\n",
    ")\n",
    "\n",
    "def update_graph(value):\n",
    "    dff = df[df['Job Title'] == value]\n",
    "    fig = px.histogram(dff, x='Company Size', y='Salary in USD', histfunc='avg')\n",
    "    return fig\n",
    "\n",
    "if __name__ == '__main__':\n",
    "    app.run(debug=True)"
   ]
  },
  {
   "cell_type": "code",
   "execution_count": 7,
   "metadata": {},
   "outputs": [
    {
     "ename": "NameError",
     "evalue": "name 'df2' is not defined",
     "output_type": "error",
     "traceback": [
      "\u001b[0;31m---------------------------------------------------------------------------\u001b[0m",
      "\u001b[0;31mNameError\u001b[0m                                 Traceback (most recent call last)",
      "Cell \u001b[0;32mIn[7], line 10\u001b[0m\n\u001b[1;32m      1\u001b[0m app \u001b[39m=\u001b[39m Dash(\u001b[39m__name__\u001b[39m)\n\u001b[1;32m      3\u001b[0m \u001b[39m# html.Div : 구역 나누기 \u001b[39;00m\n\u001b[1;32m      4\u001b[0m app\u001b[39m.\u001b[39mlayout \u001b[39m=\u001b[39m html\u001b[39m.\u001b[39mDiv([\n\u001b[1;32m      5\u001b[0m     html\u001b[39m.\u001b[39mH1(children \u001b[39m=\u001b[39m \u001b[39m'\u001b[39m\u001b[39m회사 규모별 급여 차이\u001b[39m\u001b[39m'\u001b[39m, style \u001b[39m=\u001b[39m {\u001b[39m'\u001b[39m\u001b[39mtextAlign\u001b[39m\u001b[39m'\u001b[39m:\u001b[39m'\u001b[39m\u001b[39mcenter\u001b[39m\u001b[39m'\u001b[39m}), \u001b[39m# 제목 입력\u001b[39;00m\n\u001b[1;32m      6\u001b[0m     dcc\u001b[39m.\u001b[39mDropdown(df[\u001b[39m'\u001b[39m\u001b[39mJob Title\u001b[39m\u001b[39m'\u001b[39m]\u001b[39m.\u001b[39munique(), \u001b[39m'\u001b[39m\u001b[39mData Engineer\u001b[39m\u001b[39m'\u001b[39m, \u001b[39mid\u001b[39m \u001b[39m=\u001b[39m \u001b[39m'\u001b[39m\u001b[39mdropdown-selection\u001b[39m\u001b[39m'\u001b[39m),\n\u001b[1;32m      7\u001b[0m     \u001b[39m# 목록에 띄울 기준의 카테고리, 그 중 처음에 보여줄 것, id 지정 \u001b[39;00m\n\u001b[1;32m      8\u001b[0m     dcc\u001b[39m.\u001b[39mGraph(\u001b[39mid\u001b[39m \u001b[39m=\u001b[39m \u001b[39m'\u001b[39m\u001b[39mgraph\u001b[39m\u001b[39m'\u001b[39m),\n\u001b[1;32m      9\u001b[0m     \u001b[39m# 그래프 id 지정 \u001b[39;00m\n\u001b[0;32m---> 10\u001b[0m     dash_table\u001b[39m.\u001b[39mDataTable(data \u001b[39m=\u001b[39m df2\u001b[39m.\u001b[39mto_dict(\u001b[39m'\u001b[39m\u001b[39mrecords\u001b[39m\u001b[39m'\u001b[39m), page_size\u001b[39m=\u001b[39m\u001b[39m5\u001b[39m)\n\u001b[1;32m     11\u001b[0m     \u001b[39m# 새로 추가된 코드 \u001b[39;00m\n\u001b[1;32m     12\u001b[0m     \u001b[39m# 그래프 아래 테이블 추가 \u001b[39;00m\n\u001b[1;32m     13\u001b[0m     \u001b[39m# page_size : 한페이지에 몇 줄을 보여줄 것인가\u001b[39;00m\n\u001b[1;32m     14\u001b[0m ])\n\u001b[1;32m     16\u001b[0m \u001b[39m@callback\u001b[39m(\n\u001b[1;32m     17\u001b[0m     Output(\u001b[39m'\u001b[39m\u001b[39mgraph\u001b[39m\u001b[39m'\u001b[39m, \u001b[39m'\u001b[39m\u001b[39mfigure\u001b[39m\u001b[39m'\u001b[39m),\n\u001b[1;32m     18\u001b[0m     Input(\u001b[39m'\u001b[39m\u001b[39mdropdown-selection\u001b[39m\u001b[39m'\u001b[39m, \u001b[39m'\u001b[39m\u001b[39mvalue\u001b[39m\u001b[39m'\u001b[39m)\n\u001b[1;32m     19\u001b[0m )\n\u001b[1;32m     20\u001b[0m \n\u001b[1;32m     21\u001b[0m \u001b[39mdef\u001b[39;00m \u001b[39mupdate_graph\u001b[39m(value):\n\u001b[1;32m     22\u001b[0m     dff \u001b[39m=\u001b[39m df[df[\u001b[39m'\u001b[39m\u001b[39mJob Title\u001b[39m\u001b[39m'\u001b[39m] \u001b[39m==\u001b[39m value]\n",
      "\u001b[0;31mNameError\u001b[0m: name 'df2' is not defined"
     ]
    }
   ],
   "source": [
    "app = Dash(__name__)\n",
    "\n",
    "# html.Div : 구역 나누기 \n",
    "app.layout = html.Div([\n",
    "    html.H1(children = '회사 규모별 급여 차이', style = {'textAlign':'center'}), # 제목 입력\n",
    "    dcc.Dropdown(df['Job Title'].unique(), 'Data Engineer', id = 'dropdown-selection'),\n",
    "    # 목록에 띄울 기준의 카테고리, 그 중 처음에 보여줄 것, id 지정 \n",
    "    dcc.Graph(id = 'graph'),\n",
    "    # 그래프 id 지정 \n",
    "    dash_table.DataTable(data = df2.to_dict('records'), page_size=5)\n",
    "    # 새로 추가된 코드 \n",
    "    # 그래프 아래 테이블 추가 \n",
    "    # page_size : 한페이지에 몇 줄을 보여줄 것인가\n",
    "])\n",
    "\n",
    "@callback(\n",
    "    Output('graph', 'figure'),\n",
    "    Input('dropdown-selection', 'value')\n",
    ")\n",
    "\n",
    "def update_graph(value):\n",
    "    dff = df[df['Job Title'] == value]\n",
    "    fig = px.histogram(dff, x='Company Size', y='Salary in USD', histfunc='avg')\n",
    "    return fig\n",
    "\n",
    "if __name__ == '__main__':\n",
    "    app.run(debug=True)"
   ]
  },
  {
   "cell_type": "code",
   "execution_count": null,
   "metadata": {},
   "outputs": [],
   "source": []
  }
 ],
 "metadata": {
  "kernelspec": {
   "display_name": "base",
   "language": "python",
   "name": "python3"
  },
  "language_info": {
   "codemirror_mode": {
    "name": "ipython",
    "version": 3
   },
   "file_extension": ".py",
   "mimetype": "text/x-python",
   "name": "python",
   "nbconvert_exporter": "python",
   "pygments_lexer": "ipython3",
   "version": "3.10.9"
  },
  "orig_nbformat": 4,
  "vscode": {
   "interpreter": {
    "hash": "e955d6ccf3fb60d8a73ff73ca7080045e921f5d2352b1aa7424b05546e276388"
   }
  }
 },
 "nbformat": 4,
 "nbformat_minor": 2
}
